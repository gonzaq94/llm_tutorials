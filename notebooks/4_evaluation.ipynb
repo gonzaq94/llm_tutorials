{
  "cells": [
    {
      "cell_type": "markdown",
      "metadata": {
        "id": "view-in-github",
        "colab_type": "text"
      },
      "source": [
        "<a href=\"https://colab.research.google.com/github/gonzaq94/llm_tutorials/blob/master/notebooks/4_evaluation.ipynb\" target=\"_parent\"><img src=\"https://colab.research.google.com/assets/colab-badge.svg\" alt=\"Open In Colab\"/></a>"
      ]
    },
    {
      "cell_type": "markdown",
      "metadata": {
        "id": "EKhCfNnv_Y9V"
      },
      "source": [
        "## Evaluating Finetuned Model\n",
        "\n",
        "In this section, we demonstrate how to evaluate the previously finetuned model."
      ]
    },
    {
      "cell_type": "code",
      "source": [
        "! pip install transformers comet-llm comet-ml sentencepiece --quiet"
      ],
      "metadata": {
        "id": "yVMz0DFg_bVN",
        "outputId": "8f41dabe-4c52-4afb-8393-2875e7e12e42",
        "colab": {
          "base_uri": "https://localhost:8080/"
        }
      },
      "execution_count": 1,
      "outputs": [
        {
          "output_type": "stream",
          "name": "stdout",
          "text": [
            "\u001b[2K   \u001b[90m━━━━━━━━━━━━━━━━━━━━━━━━━━━━━━━━━━━━━━━━\u001b[0m \u001b[32m73.2/73.2 kB\u001b[0m \u001b[31m775.4 kB/s\u001b[0m eta \u001b[36m0:00:00\u001b[0m\n",
            "\u001b[2K   \u001b[90m━━━━━━━━━━━━━━━━━━━━━━━━━━━━━━━━━━━━━━━━\u001b[0m \u001b[32m687.3/687.3 kB\u001b[0m \u001b[31m11.3 MB/s\u001b[0m eta \u001b[36m0:00:00\u001b[0m\n",
            "\u001b[2K   \u001b[90m━━━━━━━━━━━━━━━━━━━━━━━━━━━━━━━━━━━━━━━━\u001b[0m \u001b[32m979.1/979.1 kB\u001b[0m \u001b[31m17.2 MB/s\u001b[0m eta \u001b[36m0:00:00\u001b[0m\n",
            "\u001b[2K   \u001b[90m━━━━━━━━━━━━━━━━━━━━━━━━━━━━━━━━━━━━━━━━\u001b[0m \u001b[32m3.3/3.3 MB\u001b[0m \u001b[31m10.1 MB/s\u001b[0m eta \u001b[36m0:00:00\u001b[0m\n",
            "\u001b[2K   \u001b[90m━━━━━━━━━━━━━━━━━━━━━━━━━━━━━━━━━━━━━━━━\u001b[0m \u001b[32m54.5/54.5 kB\u001b[0m \u001b[31m2.2 MB/s\u001b[0m eta \u001b[36m0:00:00\u001b[0m\n",
            "\u001b[2K   \u001b[90m━━━━━━━━━━━━━━━━━━━━━━━━━━━━━━━━━━━━━━━━\u001b[0m \u001b[32m309.1/309.1 kB\u001b[0m \u001b[31m9.2 MB/s\u001b[0m eta \u001b[36m0:00:00\u001b[0m\n",
            "\u001b[2K   \u001b[90m━━━━━━━━━━━━━━━━━━━━━━━━━━━━━━━━━━━━━━━━\u001b[0m \u001b[32m137.9/137.9 kB\u001b[0m \u001b[31m2.8 MB/s\u001b[0m eta \u001b[36m0:00:00\u001b[0m\n",
            "\u001b[?25h"
          ]
        }
      ]
    },
    {
      "cell_type": "code",
      "execution_count": 2,
      "metadata": {
        "id": "md_zRyNd_Y9W"
      },
      "outputs": [],
      "source": [
        "import os\n",
        "from transformers import AutoModelForCausalLM\n",
        "from transformers import AutoTokenizer, AutoModelForSeq2SeqLM, Seq2SeqTrainingArguments, Seq2SeqTrainer\n",
        "import transformers\n",
        "import pandas as pd\n",
        "import comet_llm\n",
        "\n",
        "COMET_WORKSPACE = \"gonzaq94\"\n",
        "COMET_API_KEY = \"70hdKpWAXsGBl956kbVxML85N\"\n",
        "\n",
        "transformers.set_seed(35)"
      ]
    },
    {
      "cell_type": "markdown",
      "metadata": {
        "id": "jqKpzb85_Y9X"
      },
      "source": [
        "### Load the Finetuned Model\n",
        "\n",
        "The first step is to load the finetuned model. You can load the model different ways, but in this example, we download our model and tokenizer from Comet (we stored them there in the last assignment), and then use Huggingface's Transformers library  to load the pretrained model and tokenizer."
      ]
    },
    {
      "cell_type": "code",
      "source": [
        "# Download model from registry:\n",
        "\n",
        "from comet_ml import API\n",
        "\n",
        "api = API(api_key=COMET_API_KEY)\n",
        "\n",
        "# model name\n",
        "model_name = \"Emotion-T5-Base\"\n",
        "\n",
        "#get the Model object\n",
        "model = api.get_model(workspace=COMET_WORKSPACE, model_name=model_name)\n",
        "\n",
        "# Download a Registry Model:\n",
        "model.download(\"1.0.0\", \"./deploy\", expand=True)"
      ],
      "metadata": {
        "id": "wps49cU9WMYL",
        "outputId": "07f9c9c1-f3cf-48d8-d523-0f55fb0c7931",
        "colab": {
          "base_uri": "https://localhost:8080/"
        }
      },
      "execution_count": null,
      "outputs": [
        {
          "output_type": "stream",
          "name": "stderr",
          "text": [
            "\u001b[1;38;5;39mCOMET INFO:\u001b[0m Remote Model 'gonzaq94/Emotion-T5-Base:1.0.0' download has been started asynchronously.\n",
            "\u001b[1;38;5;39mCOMET INFO:\u001b[0m Still downloading 12 file(s), remaining 2.77 GB/2.77 GB\n",
            "\u001b[1;38;5;39mCOMET INFO:\u001b[0m Still downloading 2 file(s), remaining 2.12 GB/2.77 GB, Throughput 44.30 MB/s, ETA ~49s\n",
            "\u001b[1;38;5;39mCOMET INFO:\u001b[0m Still downloading 2 file(s), remaining 1.43 GB/2.77 GB, Throughput 46.74 MB/s, ETA ~32s\n",
            "\u001b[1;38;5;39mCOMET INFO:\u001b[0m Still downloading 1 file(s), remaining 836.10 MB/2.77 GB, Throughput 41.98 MB/s, ETA ~20s\n",
            "\u001b[1;38;5;39mCOMET INFO:\u001b[0m Still downloading 1 file(s), remaining 465.10 MB/2.77 GB, Throughput 24.70 MB/s, ETA ~19s\n",
            "\u001b[1;38;5;39mCOMET INFO:\u001b[0m Still downloading 1 file(s), remaining 155.10 MB/2.77 GB, Throughput 20.64 MB/s, ETA ~8s\n",
            "\u001b[1;38;5;39mCOMET INFO:\u001b[0m Remote Model 'gonzaq94/Emotion-T5-Base:1.0.0' has been successfully downloaded.\n",
            "\u001b[1;38;5;39mCOMET INFO:\u001b[0m Downloaded asset files is in './deploy' folder.\n"
          ]
        }
      ]
    },
    {
      "cell_type": "markdown",
      "source": [
        "The `model.download()` method will download not only the model file, but all the related assets we logged, meaning we can point Huggingface's `from_pretrained()` method directly at our download folder and everything will just work."
      ],
      "metadata": {
        "id": "6HVwiQRJWPfc"
      }
    },
    {
      "cell_type": "code",
      "execution_count": null,
      "metadata": {
        "id": "4jGejoru_Y9Y",
        "outputId": "c249c768-dffb-4485-939a-bd8289a06b91",
        "colab": {
          "base_uri": "https://localhost:8080/"
        }
      },
      "outputs": [
        {
          "output_type": "stream",
          "name": "stderr",
          "text": [
            "You set `add_prefix_space`. The tokenizer needs to be converted from the slow tokenizers\n"
          ]
        }
      ],
      "source": [
        "# load model and tokenizer\n",
        "model = AutoModelForSeq2SeqLM.from_pretrained(\"./deploy/checkpoint-7\")\n",
        "tokenizer = AutoTokenizer.from_pretrained(\"./deploy/checkpoint-7/\")"
      ]
    },
    {
      "cell_type": "markdown",
      "metadata": {
        "id": "iwFUZU38_Y9Y"
      },
      "source": [
        "### Load the Data to Evaluate\n",
        "\n",
        "The next step is to load the evaluation dataset. We are reloading the dataset from the previous notebook."
      ]
    },
    {
      "cell_type": "code",
      "execution_count": 3,
      "metadata": {
        "id": "NgKH5AxA_Y9Y"
      },
      "outputs": [],
      "source": [
        "emotion_dataset_val_temp = pd.read_json(path_or_buf=\"https://raw.githubusercontent.com/comet-ml/comet-llmops/main/data/merged_training_sample_prepared_valid.jsonl\", lines=True)\n",
        "emotion_dataset_test = emotion_dataset_val_temp.iloc[int(len(emotion_dataset_val_temp)/2):]"
      ]
    },
    {
      "cell_type": "code",
      "execution_count": null,
      "metadata": {
        "id": "KjnMtBDQ_Y9Y",
        "outputId": "618d1a4c-d352-4f59-8d8f-0b1436b79039",
        "colab": {
          "base_uri": "https://localhost:8080/"
        }
      },
      "outputs": [
        {
          "output_type": "execute_result",
          "data": {
            "text/plain": [
              "['i feel very very disturbed right now i dont know how to say this but guess i couldnt sleep tonight just to think about this about him\\n\\n###\\n\\n',\n",
              " 'i feel make them the most dangerous and their level of annoyance is what gives them high priority\\n\\n###\\n\\n',\n",
              " 'i can feel sympathetic joy for my boyfriend and colleagues the latter being like times harder than the former\\n\\n###\\n\\n',\n",
              " 'i found these emails from scott dale and just reading them frusterated me so much that i feel the need to post them and show the world what a neurotic freak he was is\\n\\n###\\n\\n',\n",
              " 'i won t lie and say there isn t a part of me that still feels insulted by it\\n\\n###\\n\\n']"
            ]
          },
          "metadata": {},
          "execution_count": 9
        }
      ],
      "source": [
        "emotion_dataset_test.head().prompt.tolist()"
      ]
    },
    {
      "cell_type": "markdown",
      "metadata": {
        "id": "IScMHEuZ_Y9Y"
      },
      "source": [
        "### Evaluate Finetuned Emotion Classifier\n",
        "\n",
        "Evaluate different models and prompting techniques and log results when prompting the fine-tuned model. As a take-how exercise feel free to log results with few-shot and one-shot prompting using gpt-3.5-turbo. This way it will be possible to compare the finetuned model with other high-performing models.\n"
      ]
    },
    {
      "cell_type": "code",
      "source": [
        "from transformers import LogitsProcessorList, MinLengthLogitsProcessor\n",
        "\n",
        "class CustomLogitsProcessor(LogitsProcessorList):\n",
        "    def __init__(self, allowed_tokens):\n",
        "        super().__init__()\n",
        "        self.allowed_tokens = allowed_tokens\n",
        "\n",
        "    def process(self, logits, scores, **kwargs):\n",
        "        # Set probabilities of non-allowed tokens to 0\n",
        "        for i in range(logits.size(-1)):\n",
        "            if i not in self.allowed_tokens:\n",
        "                logits[:, i] = -float('Inf')\n",
        "        return logits\n",
        "\n",
        "# Define allowed tokens (this will need to be matched to your tokenizer's vocab)\n",
        "allowed_tokens = tokenizer.convert_tokens_to_ids(['anger', 'fear', 'joy', 'love', 'sadness', 'surprise'])\n",
        "custom_processor = CustomLogitsProcessor(allowed_tokens)"
      ],
      "metadata": {
        "id": "3HnRIt8ZozQC"
      },
      "execution_count": null,
      "outputs": []
    },
    {
      "cell_type": "code",
      "source": [
        "def get_logit_for_words(logits_tensor, words_of_interest, tokenizer):\n",
        "    \"\"\"\n",
        "    Extracts the logits for specified words from a logits tensor.\n",
        "\n",
        "    Args:\n",
        "    - logits_tensor (torch.Tensor): Tensor of shape [batch_size, sequence_length, vocab_size].\n",
        "    - words_of_interest (list of str): List of words for which logits are needed.\n",
        "    - tokenizer (AutoTokenizer): Tokenizer used to convert words to token IDs.\n",
        "\n",
        "    Returns:\n",
        "    - dict: A dictionary with words as keys and their corresponding logits as values.\n",
        "    \"\"\"\n",
        "    # Convert words to token IDs\n",
        "    token_ids = [tokenizer.encode(word, add_special_tokens=False)[0] for word in words_of_interest]\n",
        "\n",
        "    # Ensure logits_tensor is a 3D tensor with shape [batch_size, sequence_length, vocab_size]\n",
        "    if logits_tensor.dim() != 3:\n",
        "        raise ValueError(\"Logits tensor must be 3-dimensional with shape [batch_size, sequence_length, vocab_size].\")\n",
        "\n",
        "    # Extract logits for specific token IDs\n",
        "    # Assuming logits_tensor is for a single sequence (batch_size=1)\n",
        "    # Modify indexing if batch_size > 1 or if using a different format\n",
        "    batch_size, sequence_length, vocab_size = logits_tensor.shape\n",
        "    logits_for_interest = logits_tensor[0, :, token_ids]  # [sequence_length, len(words_of_interest)]\n",
        "\n",
        "    # Create a dictionary to hold the logits for the words of interest\n",
        "    logits_dict = {word: logits_for_interest[:, i].tolist() for i, word in enumerate(words_of_interest)}\n",
        "\n",
        "    return logits_dict\n"
      ],
      "metadata": {
        "id": "2T1lh8bK2Ckz"
      },
      "execution_count": null,
      "outputs": []
    },
    {
      "cell_type": "code",
      "execution_count": null,
      "metadata": {
        "id": "kYprKXo2_Y9Z",
        "outputId": "ef02a0ca-0e2e-4c51-9d6a-ef1e08045e80",
        "colab": {
          "base_uri": "https://localhost:8080/"
        }
      },
      "outputs": [
        {
          "output_type": "stream",
          "name": "stdout",
          "text": [
            "Prompt logged to https://www.comet.com/gonzaq94/emotion-evaluation-run2\n"
          ]
        },
        {
          "output_type": "stream",
          "name": "stderr",
          "text": [
            "INFO:comet_llm.summary:Prompt logged to https://www.comet.com/gonzaq94/emotion-evaluation-run2\n"
          ]
        }
      ],
      "source": [
        "import torch\n",
        "\n",
        "# for comet logging\n",
        "comet_llm.init(project=\"emotion-evaluation-run2\")\n",
        "\n",
        "# prompt prefix\n",
        "prefix = \"Classify the provided piece of text into one of the following emotion labels.\\n\\nEmotion labels: ['anger', 'fear', 'joy', 'love', 'sadness', 'surprise']. \\n\\nText:\"\n",
        "\n",
        "# prepare prompts\n",
        "prompts = [{\"prompt\": row.prompt.strip(\"\\n\\n###\\n\\n\") + \"\\n\\n\" + \"Emotion output:\", \"completion\": row.completion.strip(\"\\n\").strip(\" \")} for index, row in emotion_dataset_test.iterrows()]\n",
        "\n",
        "# expected results to log\n",
        "actual_completions = [prompt[\"completion\"] for prompt in prompts]\n",
        "\n",
        "# the results from the fine-tuned model\n",
        "finetuned_completions = []\n",
        "temperature = 0.1\n",
        "\n",
        "for idx, prompt in enumerate(prompts):\n",
        "\n",
        "    #####\n",
        "    # finetuned model outputs\n",
        "    input_ids = tokenizer.encode(prefix + prompt[\"prompt\"], return_tensors=\"pt\")\n",
        "    output = model.generate(input_ids, do_sample=True, max_new_tokens=1, temperature=0.2, return_dict=True)\n",
        "\n",
        "    #output_text = tokenizer.decode(output[0], skip_special_tokens=True).strip(\"<pad>\").strip(\" \")\n",
        "    output_text = tokenizer.decode(output[0], skip_special_tokens=True)\n",
        "    if output_text == \"Emotion\":\n",
        "        print(idx, prefix + prompt[\"prompt\"], output_text, output)\n",
        "    finetuned_completions.append(output_text)\n",
        "\n",
        "    # log the prompts\n",
        "    comet_llm.log_prompt(\n",
        "        prompt = prefix + prompt[\"prompt\"],\n",
        "        tags = [\"flan-t5-base\", \"fine-tuned\"],\n",
        "        metadata = {\n",
        "            \"model_name\": \"flan-t5-base\",\n",
        "            \"temperature\": temperature,\n",
        "            \"expected_output\": prompt[\"completion\"],\n",
        "        },\n",
        "        output = output_text\n",
        "    )\n",
        "\n",
        "    # exercise: log zero-shot and few-shot results with GPT-3.5-Turbo and GPT-4 and compare with your fine-tuned model\n",
        "    ### zero-shot GPT-3.5-Turbo\n"
      ]
    },
    {
      "cell_type": "code",
      "source": [],
      "metadata": {
        "id": "94659SnS-4t_"
      },
      "execution_count": null,
      "outputs": []
    },
    {
      "cell_type": "markdown",
      "source": [
        "# BART large inference (zero-shot)\n"
      ],
      "metadata": {
        "id": "Q-SF0IyB-5E4"
      }
    },
    {
      "cell_type": "code",
      "source": [
        "sequence_to_classify = \"one day I will see the world\"\n",
        "candidate_labels = ['cooking', 'travel', 'dancing']\n",
        "classifier(sequence_to_classify, candidate_labels)"
      ],
      "metadata": {
        "id": "prHtfV75Qju_",
        "outputId": "efbee2b6-3e1f-4e60-ce4a-3fb713783cff",
        "colab": {
          "base_uri": "https://localhost:8080/"
        }
      },
      "execution_count": null,
      "outputs": [
        {
          "output_type": "execute_result",
          "data": {
            "text/plain": [
              "{'sequence': 'one day I will see the world',\n",
              " 'labels': ['travel', 'dancing', 'cooking'],\n",
              " 'scores': [0.9938650727272034, 0.0032737923320382833, 0.0028610334265977144]}"
            ]
          },
          "metadata": {},
          "execution_count": 132
        }
      ]
    },
    {
      "cell_type": "code",
      "source": [
        "from transformers import AutoModelForSequenceClassification, AutoTokenizer, pipeline\n",
        "import numpy as np\n",
        "\n",
        "# Load pre-trained model and tokenizer\n",
        "model_name = 'facebook/bart-large-mnli'  # or 'gpt2-medium', 'gpt2-large', 'gpt2-xl'\n",
        "\n",
        "tokenizer = AutoTokenizer.from_pretrained(model_name)\n",
        "model = AutoModelForSequenceClassification.from_pretrained(model_name)\n",
        "\n",
        "tokenizer.pad_token = tokenizer.eos_token\n",
        "\n",
        "classifier = pipeline(\"zero-shot-classification\", model=\"facebook/bart-large-mnli\")\n",
        "\n",
        "# for comet logging\n",
        "comet_llm.init(project=\"emotion-evaluation-bart-zero-shot\")\n",
        "\n",
        "# prompt prefix\n",
        "prefix = \"Classify the provided piece of text into one of the following emotion labels.\\n\\nEmotion labels: ['anger', 'fear', 'joy', 'love', 'sadness', 'surprise']. \\n\\nText:\"\n",
        "\n",
        "# candidate labels\n",
        "candidate_labels = ['anger', 'fear', 'joy', 'love', 'sadness', 'surprise']\n",
        "\n",
        "# prepare prompts\n",
        "prompts = [{\"prompt\": row.prompt.strip(\"\\n\\n###\\n\\n\"), \"completion\": row.completion.strip(\"\\n\").strip(\" \")} for index, row in emotion_dataset_test.iterrows()]\n",
        "\n",
        "# expected results to log\n",
        "actual_completions = [prompt[\"completion\"] for prompt in prompts]\n"
      ],
      "metadata": {
        "id": "ZULthutN-z1Z"
      },
      "execution_count": null,
      "outputs": []
    },
    {
      "cell_type": "code",
      "source": [
        "# the results from the fine-tuned model\n",
        "bart_zero_shot_completions = []\n",
        "for idx, prompt in enumerate(prompts):\n",
        "\n",
        "    input_ids = tokenizer.encode(prompt[\"prompt\"], return_tensors=\"pt\")\n",
        "    # Perform zero-shot classification\n",
        "    result = classifier(prompt[\"prompt\"], candidate_labels)\n",
        "\n",
        "    output_text = result['labels'][0]\n",
        "    bart_zero_shot_completions.append(output_text)\n",
        "\n",
        "    # log the prompts\n",
        "    comet_llm.log_prompt(\n",
        "        prompt = prefix + prompt[\"prompt\"],\n",
        "        tags = [model_name, \"zero-shot\"],\n",
        "        metadata = {\n",
        "            \"model_name\": model_name,\n",
        "            \"expected_output\": prompt[\"completion\"],\n",
        "        },\n",
        "        output = output_text\n",
        "    )\n"
      ],
      "metadata": {
        "id": "EmQNGz13HWHP"
      },
      "execution_count": null,
      "outputs": []
    },
    {
      "cell_type": "markdown",
      "source": [
        "# BART large inference (few-shot)"
      ],
      "metadata": {
        "id": "KvaxmkyGLvtW"
      }
    },
    {
      "cell_type": "code",
      "source": [
        "from transformers import AutoModelForSequenceClassification, AutoTokenizer, pipeline\n",
        "import numpy as np\n",
        "\n",
        "# take samples excluded from the test set for few shot sampling\n",
        "emotion_dataset_few_shot_set = emotion_dataset_val_temp.iloc[:int(len(emotion_dataset_val_temp)/2)]\n",
        "number_example_shots = 5\n",
        "\n",
        "# Load pre-trained model and tokenizer\n",
        "model_name = 'facebook/bart-large-mnli'\n",
        "tokenizer = AutoTokenizer.from_pretrained(model_name)\n",
        "model = AutoModelForSequenceClassification.from_pretrained(model_name)\n",
        "\n",
        "# Set tokenizer pad token\n",
        "tokenizer.pad_token = tokenizer.eos_token\n",
        "\n",
        "# Initialize the classifier pipeline\n",
        "classifier = pipeline(\"zero-shot-classification\", model=model_name)\n",
        "\n",
        "# for comet logging\n",
        "comet_llm.init(project=\"emotion-evaluation-bart-few-shot\")\n",
        "\n",
        "# Define your candidate emotion labels\n",
        "candidate_labels = ['anger', 'fear', 'joy', 'love', 'sadness', 'surprise']\n",
        "#candidate_labels = ['fear', 'joy', 'love', 'sadness', 'anger', 'surprise']\n",
        "\n",
        "\n",
        "# Define few-shot examples\n",
        "few_shot_examples = [\n",
        "    {\"text\": \"I can't believe this happened, I'm so angry!\", \"label\": \"anger\"},\n",
        "    {\"text\": \"I'm feeling nervous about tomorrow.\", \"label\": \"fear\"},\n",
        "    {\"text\": \"I just got a promotion and I’m thrilled!\", \"label\": \"joy\"},\n",
        "    {\"text\": \"I love spending time with my family.\", \"label\": \"love\"},\n",
        "    {\"text\": \"I feel so down and sad.\", \"label\": \"sadness\"},\n",
        "    {\"text\": \"Wow, that was unexpected!\", \"label\": \"surprise\"},\n",
        "]\n",
        "\n",
        "# Function to create few-shot prompt by appending examples to the input prompt\n",
        "def create_few_shot_prompt(prompt, few_shot_examples):\n",
        "    few_shot_prompt = \"\"\n",
        "    for example in few_shot_examples:\n",
        "        few_shot_prompt += f\"Text: {example['text']}\\nLabel: {example['label']}\\n\\n\"\n",
        "    few_shot_prompt += f\"Text: {prompt}\\nLabel:\"\n",
        "    return few_shot_prompt\n",
        "\n",
        "def map_to_prompt_dct(row):\n",
        "    return {\"text\": row.prompt, \"label\": row.completion}\n",
        "\n",
        "# Prepare prompts\n",
        "prompts = [{\"prompt\": row.prompt.strip(\"\\n\\n###\\n\\n\"),\n",
        "            \"completion\": row.completion.strip(\"\\n\").strip(\" \")} for index, row in emotion_dataset_test.iterrows()]\n"
      ],
      "metadata": {
        "id": "rVVepy32L0EI"
      },
      "execution_count": 18,
      "outputs": []
    },
    {
      "cell_type": "code",
      "source": [
        "# For storing the results\n",
        "bart_few_shot_completions = []\n",
        "\n",
        "# Loop through prompts and perform few-shot classification\n",
        "for idx, prompt in enumerate(prompts):\n",
        "    # Create the few-shot prompt by including labeled examples\n",
        "    sample_df = emotion_dataset_few_shot_set.sample(number_example_shots)\n",
        "    sample_exs = [map_to_prompt_dct(row) for index, row in sample_df.iterrows()]\n",
        "\n",
        "    few_shot_prompt = create_few_shot_prompt(prompt[\"prompt\"], sample_exs)\n",
        "    #few_shot_prompt = prompt[\"prompt\"]\n",
        "\n",
        "    # Perform classification\n",
        "    result = classifier(few_shot_prompt, candidate_labels)\n",
        "\n",
        "    output_text = result['labels'][0]\n",
        "    # Save the output\n",
        "    bart_few_shot_completions.append(output_text)\n",
        "\n",
        "    # Log the prompts\n",
        "    comet_llm.log_prompt(\n",
        "        prompt = few_shot_prompt,\n",
        "        tags = [model_name, \"few-shot\"],\n",
        "        metadata = {\n",
        "            \"model_name\": model_name,\n",
        "            \"expected_output\": prompt[\"completion\"],\n",
        "            \"number_example_shots\": number_example_shots\n",
        "        },\n",
        "        output = output_text\n",
        "    )"
      ],
      "metadata": {
        "id": "wnXhZWfr0B-E"
      },
      "execution_count": 22,
      "outputs": []
    },
    {
      "cell_type": "markdown",
      "metadata": {
        "id": "IWr6Gu6c_Y9Z"
      },
      "source": [
        "### Finetuned Model - Confusion Matrix\n",
        "\n",
        "Prepare a confusion matrix to better understand the performance of the fine-tuned model on the multi-label classification task."
      ]
    },
    {
      "cell_type": "code",
      "execution_count": null,
      "metadata": {
        "id": "lpO7aIbr_Y9Z",
        "outputId": "0f9011a0-6b4a-4bc8-e480-87b2fb1eeb75",
        "colab": {
          "base_uri": "https://localhost:8080/",
          "height": 700
        }
      },
      "outputs": [
        {
          "output_type": "display_data",
          "data": {
            "text/plain": [
              "<Figure size 800x800 with 2 Axes>"
            ],
            "image/png": "[encoded data removed]"
          },
          "metadata": {}
        },
        {
          "output_type": "stream",
          "name": "stdout",
          "text": [
            "Accuracy 0.5666666666666667\n"
          ]
        }
      ],
      "source": [
        "# confusion matrix (logged to experiments as well)\n",
        "\n",
        "from sklearn.metrics import confusion_matrix\n",
        "import seaborn as sns\n",
        "import matplotlib.pyplot as plt\n",
        "\n",
        "# map completion labels to integers\n",
        "completion_map = {\n",
        "    \"anger\": 0,\n",
        "    \"fear\": 1,\n",
        "    \"joy\": 2,\n",
        "    \"love\": 3,\n",
        "    \"sadness\": 4,\n",
        "    \"surprise\": 5,\n",
        "    \"error\": 6\n",
        "}\n",
        "\n",
        "# mapper back to string labels\n",
        "completion_map_string = {\n",
        "    0: \"anger\",\n",
        "    1: \"fear\",\n",
        "    2: \"joy\",\n",
        "    3: \"love\",\n",
        "    4: \"sadness\",\n",
        "    5: \"surprise\",\n",
        "    6: \"error\"\n",
        "}\n",
        "\n",
        "# Convert completions to integers\n",
        "actual_completions_int = [completion_map[completion] for completion in actual_completions]\n",
        "finetuned_completions_int = [6 if completion == \"E\" else completion_map[completion] for completion in finetuned_completions]\n",
        "\n",
        "# Compute confusion matrix\n",
        "cm = confusion_matrix(actual_completions_int, finetuned_completions_int)\n",
        "\n",
        "# Plot confusion matrix\n",
        "plt.figure(figsize=(8, 8))\n",
        "sns.heatmap(cm, annot=True, fmt=\".0f\", linewidths=0.5, square=True, cmap=\"Blues_r\",\n",
        "            annot_kws={\"size\": 12, \"weight\": 'bold', \"ha\": 'center', \"va\": 'center'})\n",
        "\n",
        "# Add emotion labels to confusion matrix\n",
        "plt.ylabel(\"True label\")\n",
        "plt.xlabel(\"Predicted label\")\n",
        "\n",
        "# Annotate the confusion matrix with completion labels\n",
        "tick_marks = [i for i in range(len(completion_map_string))]\n",
        "plt.xticks(tick_marks, list(completion_map_string.values()), rotation=\"vertical\")\n",
        "plt.yticks(tick_marks, list(completion_map_string.values()), rotation=\"horizontal\")\n",
        "\n",
        "plt.show()\n",
        "\n",
        "# calculate accuracy\n",
        "acc = (np.array(actual_completions_int) == np.array(finetuned_completions_int)).sum() / len(actual_completions_int)\n",
        "print(f\"Accuracy {acc}\")"
      ]
    },
    {
      "cell_type": "code",
      "source": [],
      "metadata": {
        "id": "Ok9ZB6-VIGo_"
      },
      "execution_count": null,
      "outputs": []
    },
    {
      "cell_type": "markdown",
      "source": [
        "### BART-lare confusion matrix (zero-shot)\n",
        "\n",
        "\n",
        "\n"
      ],
      "metadata": {
        "id": "88VssspvIImW"
      }
    },
    {
      "cell_type": "code",
      "source": [],
      "metadata": {
        "id": "2Vmowr3IIN0_"
      },
      "execution_count": null,
      "outputs": []
    },
    {
      "cell_type": "code",
      "source": [
        "# confusion matrix (logged to experiments as well)\n",
        "\n",
        "from sklearn.metrics import confusion_matrix\n",
        "import seaborn as sns\n",
        "import matplotlib.pyplot as plt\n",
        "\n",
        "# map completion labels to integers\n",
        "completion_map = {\n",
        "    \"anger\": 0,\n",
        "    \"fear\": 1,\n",
        "    \"joy\": 2,\n",
        "    \"love\": 3,\n",
        "    \"sadness\": 4,\n",
        "    \"surprise\": 5,\n",
        "    \"error\": 6\n",
        "}\n",
        "\n",
        "# mapper back to string labels\n",
        "completion_map_string = {\n",
        "    0: \"anger\",\n",
        "    1: \"fear\",\n",
        "    2: \"joy\",\n",
        "    3: \"love\",\n",
        "    4: \"sadness\",\n",
        "    5: \"surprise\",\n",
        "    6: \"error\"\n",
        "}\n",
        "\n",
        "# Convert completions to integers\n",
        "actual_completions_int = [completion_map[completion] for completion in actual_completions]\n",
        "bart_zero_shot_completions_int = [6 if completion not in completion_map.keys() else completion_map[completion] for completion in bart_zero_shot_completions]\n",
        "\n",
        "# Compute confusion matrix\n",
        "cm = confusion_matrix(actual_completions_int, bart_zero_shot_completions_int)\n",
        "\n",
        "# Plot confusion matrix\n",
        "plt.figure(figsize=(8, 8))\n",
        "sns.heatmap(cm, annot=True, fmt=\".0f\", linewidths=0.5, square=True, cmap=\"Blues_r\",\n",
        "            annot_kws={\"size\": 12, \"weight\": 'bold', \"ha\": 'center', \"va\": 'center'})\n",
        "\n",
        "# Add emotion labels to confusion matrix\n",
        "plt.ylabel(\"True label\")\n",
        "plt.xlabel(\"Predicted label\")\n",
        "\n",
        "# Annotate the confusion matrix with completion labels\n",
        "tick_marks = [i for i in range(len(completion_map_string))]\n",
        "plt.xticks(tick_marks, list(completion_map_string.values()), rotation=\"vertical\")\n",
        "plt.yticks(tick_marks, list(completion_map_string.values()), rotation=\"horizontal\")\n",
        "\n",
        "plt.show()\n",
        "\n",
        "# calculate accuracy\n",
        "acc = (np.array(actual_completions_int) == np.array(bart_zero_shot_completions_int)).sum() / len(actual_completions_int)\n",
        "print(f\"Accuracy {acc}\")"
      ],
      "metadata": {
        "id": "NoFpwyKTIPYf",
        "outputId": "5030b33f-1315-4af4-8bd6-036dcd3614e3",
        "colab": {
          "base_uri": "https://localhost:8080/",
          "height": 700
        }
      },
      "execution_count": null,
      "outputs": [
        {
          "output_type": "display_data",
          "data": {
            "text/plain": [
              "<Figure size 800x800 with 2 Axes>"
            ],
            "image/png": "[encoded data removed]"
          },
          "metadata": {}
        },
        {
          "output_type": "stream",
          "name": "stdout",
          "text": [
            "Accuracy 0.43333333333333335\n"
          ]
        }
      ]
    },
    {
      "cell_type": "markdown",
      "source": [
        "### BART-lare confusion matrix (few-shot)"
      ],
      "metadata": {
        "id": "U5Fa-qydUB8w"
      }
    },
    {
      "cell_type": "code",
      "source": [
        "# confusion matrix (logged to experiments as well)\n",
        "\n",
        "from sklearn.metrics import confusion_matrix\n",
        "import seaborn as sns\n",
        "import matplotlib.pyplot as plt\n",
        "\n",
        "# map completion labels to integers\n",
        "completion_map = {\n",
        "    \"anger\": 0,\n",
        "    \"fear\": 1,\n",
        "    \"joy\": 2,\n",
        "    \"love\": 3,\n",
        "    \"sadness\": 4,\n",
        "    \"surprise\": 5,\n",
        "    \"error\": 6\n",
        "}\n",
        "\n",
        "# mapper back to string labels\n",
        "completion_map_string = {\n",
        "    0: \"anger\",\n",
        "    1: \"fear\",\n",
        "    2: \"joy\",\n",
        "    3: \"love\",\n",
        "    4: \"sadness\",\n",
        "    5: \"surprise\",\n",
        "    6: \"error\"\n",
        "}\n",
        "\n",
        "# Convert completions to integers\n",
        "actual_completions = [prompt[\"completion\"] for prompt in prompts]\n",
        "actual_completions_int = [completion_map[completion] for completion in actual_completions]\n",
        "bart_few_shot_completions_int = [6 if completion not in completion_map.keys() else completion_map[completion] for completion in bart_few_shot_completions]\n",
        "\n",
        "# Compute confusion matrix\n",
        "cm = confusion_matrix(actual_completions_int, bart_few_shot_completions_int)\n",
        "\n",
        "# Plot confusion matrix\n",
        "plt.figure(figsize=(8, 8))\n",
        "sns.heatmap(cm, annot=True, fmt=\".0f\", linewidths=0.5, square=True, cmap=\"Blues_r\",\n",
        "            annot_kws={\"size\": 12, \"weight\": 'bold', \"ha\": 'center', \"va\": 'center'})\n",
        "\n",
        "# Add emotion labels to confusion matrix\n",
        "plt.ylabel(\"True label\")\n",
        "plt.xlabel(\"Predicted label\")\n",
        "\n",
        "# Annotate the confusion matrix with completion labels\n",
        "tick_marks = [i for i in range(len(completion_map_string))]\n",
        "plt.xticks(tick_marks, list(completion_map_string.values()), rotation=\"vertical\")\n",
        "plt.yticks(tick_marks, list(completion_map_string.values()), rotation=\"horizontal\")\n",
        "\n",
        "plt.show()\n",
        "\n",
        "# calculate accuracy\n",
        "acc = (np.array(actual_completions_int) == np.array(bart_few_shot_completions_int)).sum() / len(actual_completions_int)\n",
        "print(f\"Accuracy {acc}\")"
      ],
      "metadata": {
        "id": "lan9q0PgUGJc",
        "outputId": "08822bc1-dcd5-4690-f3b1-93a2e6470ef5",
        "colab": {
          "base_uri": "https://localhost:8080/",
          "height": 701
        }
      },
      "execution_count": 24,
      "outputs": [
        {
          "output_type": "display_data",
          "data": {
            "text/plain": [
              "<Figure size 800x800 with 2 Axes>"
            ],
            "image/png": "[encoded data removed]"
          },
          "metadata": {}
        },
        {
          "output_type": "stream",
          "name": "stdout",
          "text": [
            "Accuracy 0.13333333333333333\n"
          ]
        }
      ]
    },
    {
      "cell_type": "markdown",
      "metadata": {
        "id": "1VPZdrm9_Y9a"
      },
      "source": [
        "### Saving Confusion Matrix\n",
        "\n",
        "The code below saves the confusion matrix to the selected Comet experiment. You can obtained the experiment key from Comet's experiment dashboard.\n",
        "\n",
        "Make sure to change the experiment key to your own experiment key. Refer to the video lecture or [Comet's documentation](https://www.comet.com/docs/v2/api-and-sdk/python-sdk/reference/ExistingExperiment/#existingexperimentlog_code) for how to locate the experiment key for your experiment."
      ]
    },
    {
      "cell_type": "code",
      "execution_count": null,
      "metadata": {
        "id": "nm2v5lBK_Y9a",
        "outputId": "3663ceae-5628-47b6-de94-6fbb14db136a"
      },
      "outputs": [
        {
          "name": "stderr",
          "output_type": "stream",
          "text": [
            "\u001b[1;38;5;214mCOMET WARNING:\u001b[0m To get all data logged automatically, import comet_ml before the following modules: torch.\n",
            "\u001b[1;38;5;214mCOMET WARNING:\u001b[0m As you are running in a Jupyter environment, you will need to call `experiment.end()` when finished to ensure all metrics and code are logged before exiting.\n"
          ]
        },
        {
          "name": "stdout",
          "output_type": "stream",
          "text": [
            "huggingface/tokenizers: The current process just got forked, after parallelism has already been used. Disabling parallelism to avoid deadlocks...\n",
            "To disable this warning, you can either:\n",
            "\t- Avoid using `tokenizers` before the fork if possible\n",
            "\t- Explicitly set the environment variable TOKENIZERS_PARALLELISM=(true | false)\n"
          ]
        },
        {
          "name": "stderr",
          "output_type": "stream",
          "text": [
            "\u001b[1;38;5;39mCOMET INFO:\u001b[0m Experiment is live on comet.com https://www.comet.com/omarsar/emotion-classification/097ab78e6e154f24b8090a1a7dd6abb8\n",
            "\n"
          ]
        },
        {
          "data": {
            "text/plain": [
              "{'web': 'https://www.comet.com/api/asset/download?assetId=9f5b04f8cc7441bcb39b27de799fb2ed&experimentKey=097ab78e6e154f24b8090a1a7dd6abb8',\n",
              " 'api': 'https://www.comet.com/api/rest/v2/experiment/asset/get-asset?assetId=9f5b04f8cc7441bcb39b27de799fb2ed&experimentKey=097ab78e6e154f24b8090a1a7dd6abb8',\n",
              " 'assetId': '9f5b04f8cc7441bcb39b27de799fb2ed'}"
            ]
          },
          "execution_count": 7,
          "metadata": {},
          "output_type": "execute_result"
        }
      ],
      "source": [
        "from comet_ml import ExistingExperiment\n",
        "\n",
        "experiment = ExistingExperiment(api_key=COMET_API_KEY, previous_experiment=\"097ab78e6e154f24b8090a1a7dd6abb8\")\n",
        "experiment.log_confusion_matrix(actual_completions_int, finetuned_completions_int, labels=list(completion_map_string.values()))"
      ]
    }
  ],
  "metadata": {
    "kernelspec": {
      "display_name": "Python 3",
      "name": "python3"
    },
    "language_info": {
      "codemirror_mode": {
        "name": "ipython",
        "version": 3
      },
      "file_extension": ".py",
      "mimetype": "text/x-python",
      "name": "python",
      "nbconvert_exporter": "python",
      "pygments_lexer": "ipython3",
      "version": "3.9.17"
    },
    "orig_nbformat": 4,
    "colab": {
      "provenance": [],
      "gpuType": "T4",
      "include_colab_link": true
    },
    "accelerator": "GPU"
  },
  "nbformat": 4,
  "nbformat_minor": 0
}